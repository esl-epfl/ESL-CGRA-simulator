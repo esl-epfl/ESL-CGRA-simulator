{
 "cells": [
  {
   "attachments": {},
   "cell_type": "markdown",
   "id": "9c085e9d",
   "metadata": {},
   "source": [
    "# Test a ready kernel"
   ]
  },
  {
   "cell_type": "code",
   "execution_count": null,
   "id": "93cdc330-9553-4750-9f9b-ced2c9da81e2",
   "metadata": {
    "tags": []
   },
   "outputs": [],
   "source": [
    "from cgra import *\n",
    "# Set the kernel name\n",
    "kernel_name = \"convolution\"\n",
    "version = \"_v1\"\n",
    "# Input data\n",
    "kernel_clear_memory(kernel_name, version)\n",
    "kernel_add_memory_region(kernel_name, 36464, [1, 2, 3, 4, 5, 6, 7, 8, 9], version)\n",
    "kernel_add_memory_region(kernel_name, 100, [9], version)\n",
    "# Set load and write addrs\n",
    "load_addrs = [36464, 36464, 36464, 100]\n",
    "store_addrs = [0, 0, 0, 4]\n",
    "# Run the example\n",
    "run(kernel_name, version=version, pr=[\"ROUT\",\"OPS\"], load_addrs=load_addrs, store_addrs=store_addrs)"
   ]
  },
  {
   "attachments": {},
   "cell_type": "markdown",
   "id": "3125a0e6",
   "metadata": {},
   "source": [
    "# Create a new kernel "
   ]
  },
  {
   "cell_type": "code",
   "execution_count": null,
   "id": "88657fbf",
   "metadata": {},
   "outputs": [],
   "source": [
    "from sat_to_csv import *\n",
    "from kernels import *\n",
    "\n",
    "# Kernels will be located in a folder with the kernel's name\n",
    "kernel_name = \"strsearch\"\n",
    "\n",
    "# Create a new folder (if it does not exist already) and add the minimum necessary files to run it \n",
    "kernel_new(kernel_name)\n",
    "\n",
    "# If you have a assembly in the SAT-MapIt format, you can convert it to a csv \n",
    "convert( kernel_name+\"/out.sat\", kernel_name+\"/instructions.csv\" )\n",
    "\n",
    "# To test this kernel we will fill the memory with two random arrays\n",
    "# Note that the addresses in memory (36464 and 37800) correspond to inputs in the inputs.csv file)\n",
    "import random\n",
    "# kernel_add_memory_region(kernel_name, 36464, range(255))\n",
    "# kernel_add_memory_region(kernel_name, 37800, [random.randint(20,30) for _ in range(50)] )\n",
    "kernel_clear_memory(kernel_name)\n",
    "kernel_add_memory_region(kernel_name, 1000, [50, 123, 36464, 112, 37800, 45])"
   ]
  },
  {
   "cell_type": "code",
   "execution_count": null,
   "id": "0baec11c",
   "metadata": {},
   "outputs": [],
   "source": [
    "import cgra\n",
    "# Set load and write addrs\n",
    "load_addrs = [0, 1000, 1008, 1016]\n",
    "store_addrs = [0, 4, 0, 0]\n",
    "cgra.run( \"strsearch\", pr=[\"ROUT\", \"R0\",\"INST\"], limit=120, load_addrs=load_addrs, store_addrs=store_addrs)"
   ]
  },
  {
   "attachments": {},
   "cell_type": "markdown",
   "id": "51334fa4",
   "metadata": {},
   "source": [
    "# Your turn to play around"
   ]
  },
  {
   "cell_type": "code",
   "execution_count": null,
   "id": "64ef2def",
   "metadata": {},
   "outputs": [],
   "source": [
    "\n"
   ]
  }
 ],
 "metadata": {
  "kernelspec": {
   "display_name": "Python 3 (ipykernel)",
   "language": "python",
   "name": "python3"
  },
  "language_info": {
   "codemirror_mode": {
    "name": "ipython",
    "version": 3
   },
   "file_extension": ".py",
   "mimetype": "text/x-python",
   "name": "python",
   "nbconvert_exporter": "python",
   "pygments_lexer": "ipython3",
   "version": "3.8.10"
  }
 },
 "nbformat": 4,
 "nbformat_minor": 5
}
